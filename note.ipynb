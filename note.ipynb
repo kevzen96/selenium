{
 "cells": [
  {
   "cell_type": "markdown",
   "metadata": {},
   "source": [
    "Web Scraping with Python and Selenium"
   ]
  },
  {
   "cell_type": "code",
   "execution_count": 12,
   "metadata": {},
   "outputs": [],
   "source": [
    "from selenium import webdriver\n",
    "from selenium.webdriver.common.by import By\n",
    "import pandas"
   ]
  },
  {
   "cell_type": "markdown",
   "metadata": {},
   "source": [
    "เปิดเว็บไซต์"
   ]
  },
  {
   "cell_type": "code",
   "execution_count": 13,
   "metadata": {},
   "outputs": [],
   "source": [
    "driver = webdriver.Chrome()\n",
    "driver.get('https://store.steampowered.com/')"
   ]
  },
  {
   "cell_type": "markdown",
   "metadata": {},
   "source": [
    "คำสั่งคลิกปุ่ม"
   ]
  },
  {
   "cell_type": "code",
   "execution_count": 14,
   "metadata": {},
   "outputs": [],
   "source": [
    "button = driver.find_element(By.XPATH, '//*[@id=\"tab_specials_content_trigger\"]/div')\n",
    "button.click()"
   ]
  },
  {
   "cell_type": "markdown",
   "metadata": {},
   "source": [
    "ดึงข้อมูล"
   ]
  },
  {
   "cell_type": "code",
   "execution_count": 15,
   "metadata": {},
   "outputs": [],
   "source": [
    "name = driver.find_elements(By.XPATH, '//*[@id=\"tab_specials_content\"]/a/div[3]/div[1]')\n",
    "tag = driver.find_elements(By.XPATH, '//*[@id=\"tab_specials_content\"]/a/div[3]/div[2]/div')\n",
    "priceori = driver.find_elements(By.XPATH, '//*[@id=\"tab_specials_content\"]/a/div[2]/div[2]/div[1]')\n",
    "price = driver.find_elements(By.XPATH, '//*[@id=\"tab_specials_content\"]/a/div[2]/div[2]/div[2]')\n",
    "discount = driver.find_elements(By.XPATH, '//*[@id=\"tab_specials_content\"]/a/div[2]/div[1]')"
   ]
  },
  {
   "cell_type": "markdown",
   "metadata": {},
   "source": [
    "เก็บข้อมูล"
   ]
  },
  {
   "cell_type": "code",
   "execution_count": 18,
   "metadata": {},
   "outputs": [
    {
     "data": {
      "text/html": [
       "<div>\n",
       "<style scoped>\n",
       "    .dataframe tbody tr th:only-of-type {\n",
       "        vertical-align: middle;\n",
       "    }\n",
       "\n",
       "    .dataframe tbody tr th {\n",
       "        vertical-align: top;\n",
       "    }\n",
       "\n",
       "    .dataframe thead th {\n",
       "        text-align: right;\n",
       "    }\n",
       "</style>\n",
       "<table border=\"1\" class=\"dataframe\">\n",
       "  <thead>\n",
       "    <tr style=\"text-align: right;\">\n",
       "      <th></th>\n",
       "      <th>รายชื่อเกม</th>\n",
       "      <th>ประเภทของเกม</th>\n",
       "      <th>ลดราคา %</th>\n",
       "      <th>ราคาเดิม</th>\n",
       "      <th>ราคาเกม</th>\n",
       "    </tr>\n",
       "  </thead>\n",
       "  <tbody>\n",
       "    <tr>\n",
       "      <th>0</th>\n",
       "      <td>Sea of Thieves</td>\n",
       "      <td>Adventure, Open World, Multiplayer, Pirates</td>\n",
       "      <td>-50%</td>\n",
       "      <td>฿469.00</td>\n",
       "      <td>฿234.50</td>\n",
       "    </tr>\n",
       "    <tr>\n",
       "      <th>1</th>\n",
       "      <td>Cyberpunk 2077</td>\n",
       "      <td>Cyberpunk, Open World, RPG, Nudity</td>\n",
       "      <td>-50%</td>\n",
       "      <td>฿1,799.00</td>\n",
       "      <td>฿899.50</td>\n",
       "    </tr>\n",
       "    <tr>\n",
       "      <th>2</th>\n",
       "      <td>The Witcher 3: Wild Hunt - Game of the Year Ed...</td>\n",
       "      <td>RPG, Open World, Story Rich, Atmospheric</td>\n",
       "      <td>-80%</td>\n",
       "      <td>฿1,299.00</td>\n",
       "      <td>฿259.80</td>\n",
       "    </tr>\n",
       "    <tr>\n",
       "      <th>3</th>\n",
       "      <td>ACE COMBAT™ 7: SKIES UNKNOWN - TOP GUN: Maveri...</td>\n",
       "      <td>Action, Simulation, Flight, Jet</td>\n",
       "      <td>-75%</td>\n",
       "      <td>฿2,490.00</td>\n",
       "      <td>฿622.50</td>\n",
       "    </tr>\n",
       "    <tr>\n",
       "      <th>4</th>\n",
       "      <td>Red Dead Redemption 2</td>\n",
       "      <td>Open World, Story Rich, Adventure, Western</td>\n",
       "      <td>-50%</td>\n",
       "      <td>฿1,599.00</td>\n",
       "      <td>฿799.50</td>\n",
       "    </tr>\n",
       "    <tr>\n",
       "      <th>5</th>\n",
       "      <td>theHunter: Call of the Wild™</td>\n",
       "      <td>Hunting, Open World, Multiplayer, Simulation</td>\n",
       "      <td>-80%</td>\n",
       "      <td>฿289.00</td>\n",
       "      <td>฿57.80</td>\n",
       "    </tr>\n",
       "    <tr>\n",
       "      <th>6</th>\n",
       "      <td>TEKKEN 7</td>\n",
       "      <td>Fighting, Action, Multiplayer, Competitive</td>\n",
       "      <td>-85%</td>\n",
       "      <td>฿1,190.00</td>\n",
       "      <td>฿178.50</td>\n",
       "    </tr>\n",
       "    <tr>\n",
       "      <th>7</th>\n",
       "      <td>Need for Speed™ Payback</td>\n",
       "      <td>Racing, Combat Racing, Sports, Sandbox</td>\n",
       "      <td>-90%</td>\n",
       "      <td>฿799.00</td>\n",
       "      <td>฿79.90</td>\n",
       "    </tr>\n",
       "    <tr>\n",
       "      <th>8</th>\n",
       "      <td>Mad Max</td>\n",
       "      <td>Open World, Vehicular Combat, Post-apocalyptic...</td>\n",
       "      <td>-80%</td>\n",
       "      <td>฿369.00</td>\n",
       "      <td>฿73.80</td>\n",
       "    </tr>\n",
       "    <tr>\n",
       "      <th>9</th>\n",
       "      <td>Divinity: Original Sin 2 - Definitive Edition</td>\n",
       "      <td>Tactical RPG, RPG, Turn-Based Strategy, Explor...</td>\n",
       "      <td>-65%</td>\n",
       "      <td>฿899.00</td>\n",
       "      <td>฿314.65</td>\n",
       "    </tr>\n",
       "  </tbody>\n",
       "</table>\n",
       "</div>"
      ],
      "text/plain": [
       "                                          รายชื่อเกม  \\\n",
       "0                                     Sea of Thieves   \n",
       "1                                     Cyberpunk 2077   \n",
       "2  The Witcher 3: Wild Hunt - Game of the Year Ed...   \n",
       "3  ACE COMBAT™ 7: SKIES UNKNOWN - TOP GUN: Maveri...   \n",
       "4                              Red Dead Redemption 2   \n",
       "5                       theHunter: Call of the Wild™   \n",
       "6                                           TEKKEN 7   \n",
       "7                            Need for Speed™ Payback   \n",
       "8                                            Mad Max   \n",
       "9      Divinity: Original Sin 2 - Definitive Edition   \n",
       "\n",
       "                                        ประเภทของเกม ลดราคา %   ราคาเดิม  \\\n",
       "0        Adventure, Open World, Multiplayer, Pirates     -50%    ฿469.00   \n",
       "1                 Cyberpunk, Open World, RPG, Nudity     -50%  ฿1,799.00   \n",
       "2           RPG, Open World, Story Rich, Atmospheric     -80%  ฿1,299.00   \n",
       "3                    Action, Simulation, Flight, Jet     -75%  ฿2,490.00   \n",
       "4         Open World, Story Rich, Adventure, Western     -50%  ฿1,599.00   \n",
       "5       Hunting, Open World, Multiplayer, Simulation     -80%    ฿289.00   \n",
       "6         Fighting, Action, Multiplayer, Competitive     -85%  ฿1,190.00   \n",
       "7             Racing, Combat Racing, Sports, Sandbox     -90%    ฿799.00   \n",
       "8  Open World, Vehicular Combat, Post-apocalyptic...     -80%    ฿369.00   \n",
       "9  Tactical RPG, RPG, Turn-Based Strategy, Explor...     -65%    ฿899.00   \n",
       "\n",
       "   ราคาเกม  \n",
       "0  ฿234.50  \n",
       "1  ฿899.50  \n",
       "2  ฿259.80  \n",
       "3  ฿622.50  \n",
       "4  ฿799.50  \n",
       "5   ฿57.80  \n",
       "6  ฿178.50  \n",
       "7   ฿79.90  \n",
       "8   ฿73.80  \n",
       "9  ฿314.65  "
      ]
     },
     "execution_count": 18,
     "metadata": {},
     "output_type": "execute_result"
    }
   ],
   "source": [
    "datals = []\n",
    "\n",
    "for i in range(len(name)):\n",
    "    data = {'รายชื่อเกม': name[i].text, \n",
    "            'ประเภทของเกม': tag[i].text, \n",
    "            'ลดราคา %':discount[i].text, \n",
    "            'ราคาเดิม':priceori[i].text, \n",
    "            'ราคาเกม': price[i].text\n",
    "            }\n",
    "    datals.append(data)\n",
    "\n",
    "df = pandas.DataFrame(datals)\n",
    "df"
   ]
  },
  {
   "cell_type": "markdown",
   "metadata": {},
   "source": [
    "บันทึกเป็นไฟล์ Excel"
   ]
  },
  {
   "cell_type": "code",
   "execution_count": 17,
   "metadata": {},
   "outputs": [],
   "source": [
    "df.to_excel('steam.xlsx')"
   ]
  }
 ],
 "metadata": {
  "kernelspec": {
   "display_name": "Python 3.10.5 64-bit",
   "language": "python",
   "name": "python3"
  },
  "language_info": {
   "codemirror_mode": {
    "name": "ipython",
    "version": 3
   },
   "file_extension": ".py",
   "mimetype": "text/x-python",
   "name": "python",
   "nbconvert_exporter": "python",
   "pygments_lexer": "ipython3",
   "version": "3.10.5"
  },
  "orig_nbformat": 4,
  "vscode": {
   "interpreter": {
    "hash": "26de051ba29f2982a8de78e945f0abaf191376122a1563185a90213a26c5da77"
   }
  }
 },
 "nbformat": 4,
 "nbformat_minor": 2
}
